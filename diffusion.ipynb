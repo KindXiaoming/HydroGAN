{
 "cells": [
  {
   "cell_type": "code",
   "execution_count": 1,
   "metadata": {},
   "outputs": [
    {
     "name": "stderr",
     "output_type": "stream",
     "text": [
      "/home/luke/anaconda3/lib/python3.6/site-packages/h5py/__init__.py:36: FutureWarning: Conversion of the second argument of issubdtype from `float` to `np.floating` is deprecated. In future, it will be treated as `np.float64 == np.dtype(float).type`.\n",
      "  from ._conv import register_converters as _register_converters\n",
      "Using TensorFlow backend.\n"
     ]
    },
    {
     "name": "stdout",
     "output_type": "stream",
     "text": [
      " 900/1000 [==========================>...] - ETA: 12s"
     ]
    }
   ],
   "source": [
    "from keras.models import Sequential\n",
    "from keras.layers import Dense, Activation, Conv2D\n",
    "import numpy as np\n",
    "import os\n",
    "from keras.optimizers import *\n",
    "from keras.utils.generic_utils import Progbar\n",
    "import matplotlib.pyplot as plt\n",
    "\n",
    "RUN = 'C'\n",
    "OUT_DIR = 'out/' + RUN\n",
    "TENSORBOARD_DIR = 'tensorboard/wgans/' + RUN\n",
    "if not os.path.isdir(OUT_DIR): os.makedirs(OUT_DIR)\n",
    "if not os.path.isdir(TENSORBOARD_DIR): os.makedirs(TENSORBOARD_DIR)\n",
    "    \n",
    "def resize_with_resolution(resize,img):\n",
    "    x = resize[1]\n",
    "    y = resize[0]\n",
    "    width = len(img[1])\n",
    "    height = len(img[0])\n",
    "    img2 = np.zeros((width*x,height*y))\n",
    "    for i in range(width):\n",
    "        for j in range(height):\n",
    "            img2[x*i:x*(i+1),y*j:y*(j+1)] = img[i,j]\n",
    "    return img2\n",
    "\n",
    "sample = 16\n",
    "mat = np.array([[0.00000067, 0.00002292 ,0.00019117 ,0.00038771 ,0.00019117 ,0.00002292 ,0.00000067],\n",
    "[0.00002292 ,0.00078634 ,0.00655965 ,0.01330373 ,0.00655965 ,0.00078633 ,0.00002292],\n",
    "[0.00019117 ,0.00655965 ,0.05472157 ,0.11098164 ,0.05472157 ,0.00655965 ,0.00019117],\n",
    "[0.00038771 ,0.01330373 ,0.11098164 ,0.22508352 ,0.11098164 ,0.01330373 ,0.00038771],\n",
    "[0.00019117 ,0.00655965 ,0.05472157 ,0.11098164 ,0.05472157 ,0.00655965 ,0.00019117],\n",
    "[0.00002292 ,0.00078634 ,0.00655965 ,0.01330373 ,0.00655965 ,0.00078633 ,0.00002292],\n",
    "[0.00000067, 0.00002292 ,0.00019117 ,0.00038771 ,0.00019117 ,0.00002292 ,0.00000067]])\n",
    "data_input = np.zeros((sample,10,10,1))\n",
    "data_output = np.zeros((sample,10,10,1))\n",
    "for k in range(sample):\n",
    "    i = np.random.randint(0,3)\n",
    "    j = np.random.randint(0,3)\n",
    "    data_input[k,i+3,j+3,:] = 1\n",
    "    data_output[k,i:i+7, j:j+7,0] = mat\n",
    "    \n",
    "test = np.zeros((1,10,10,1))\n",
    "test[0,4,4,0] = 1\n",
    "\n",
    "epoch = 1000\n",
    "batch_size = 3\n",
    "\n",
    "model = Sequential([\n",
    "    Conv2D(8,(7,7), input_shape=(10,10,1),kernel_initializer='he_uniform', padding='same'),\n",
    "    Conv2D(1,(1,1), input_shape=(10,10,1),kernel_initializer='he_uniform', padding='same'),\n",
    "])\n",
    "\n",
    "model.compile(optimizer=RMSprop(lr=0.001),loss='mse')\n",
    "\n",
    "progress_bar = Progbar(target=epoch)\n",
    "\n",
    "for i in range(epoch):\n",
    "    index = np.random.choice(sample, batch_size, replace=False)\n",
    "    batch_input = data_input[index]\n",
    "    batch_output = data_output[index]\n",
    "    model.train_on_batch(batch_input, batch_output)\n",
    "    if i%100==0:\n",
    "        progress_bar.update(i)\n",
    "        out = resize_with_resolution((20,20),model.predict(test)[0,:,:,0])\n",
    "        plt.imsave(OUT_DIR + '/samples_%07d.png' % i, out, cmap=plt.cm.gray)\n"
   ]
  },
  {
   "cell_type": "code",
   "execution_count": null,
   "metadata": {},
   "outputs": [],
   "source": []
  }
 ],
 "metadata": {
  "kernelspec": {
   "display_name": "Python 3",
   "language": "python",
   "name": "python3"
  },
  "language_info": {
   "codemirror_mode": {
    "name": "ipython",
    "version": 3
   },
   "file_extension": ".py",
   "mimetype": "text/x-python",
   "name": "python",
   "nbconvert_exporter": "python",
   "pygments_lexer": "ipython3",
   "version": "3.6.4"
  }
 },
 "nbformat": 4,
 "nbformat_minor": 2
}
